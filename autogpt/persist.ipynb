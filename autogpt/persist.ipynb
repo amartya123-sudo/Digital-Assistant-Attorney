{
 "cells": [
  {
   "cell_type": "code",
   "execution_count": 3,
   "metadata": {},
   "outputs": [
    {
     "name": "stderr",
     "output_type": "stream",
     "text": [
      "/Library/Frameworks/Python.framework/Versions/3.11/lib/python3.11/site-packages/streamlit/elements/image.py:22: DeprecationWarning: 'imghdr' is deprecated and slated for removal in Python 3.13\n",
      "  import imghdr\n"
     ]
    }
   ],
   "source": [
    "import re\n",
    "import weaviate\n",
    "from llama_index import VectorStoreIndex, SimpleDirectoryReader\n",
    "from llama_index.vector_stores import WeaviateVectorStore\n",
    "from langchain.agents import AgentOutputParser\n",
    "from llama_index import get_response_synthesizer\n",
    "from langchain.llms import OpenAI\n",
    "from langchain.agents import AgentOutputParser\n",
    "from langchain.chat_models import ChatOpenAI\n",
    "from langchain import OpenAI\n",
    "from langchain.prompts import StringPromptTemplate\n",
    "from typing import List, Union\n",
    "from langchain.schema import AgentAction, AgentFinish\n",
    "from llama_index import ServiceContext\n",
    "from llama_index.storage.storage_context import StorageContext\n",
    "from llama_index import ServiceContext\n",
    "from llama_index import QueryBundle\n",
    "from llama_index.schema import NodeWithScore\n",
    "from llama_index.retrievers import BaseRetriever, VectorIndexRetriever\n",
    "from typing import List\n",
    "import openai\n",
    "import streamlit as st"
   ]
  },
  {
   "cell_type": "code",
   "execution_count": 4,
   "metadata": {},
   "outputs": [],
   "source": [
    "openai.api_key = st.secrets['OPENAI_API_KEY']\n",
    "\n",
    "documents = SimpleDirectoryReader(\"data_MV\").load_data()\n",
    "\n",
    "# resource_owner_config = weaviate.AuthClientPassword(\n",
    "#     username = st.secrets['WEAVIATE_UID'],\n",
    "#     password = st.secrets['WEAVIATE_P'],\n",
    "# )\n",
    "\n",
    "# client = weaviate.Client(\"https://lawtech1-z4xd25ts.weaviate.network\", auth_client_secret = resource_owner_config)\n",
    "service_context = ServiceContext.from_defaults(llm = OpenAI(temperature = 0))\n",
    "# vector_store = WeaviateVectorStore(weaviate_client = client)\n",
    "# storage_context = StorageContext.from_defaults(vector_store = vector_store)\n",
    "storage_context = StorageContext.from_defaults()\n",
    "index = VectorStoreIndex.from_documents(documents, storage_context = storage_context)\n",
    "\n",
    "template = \"\"\"You are a Smart search agent. The Agent will ask you domain specific questions. The knowledge base provided to you have smart interpretibility if you specify keywords in your query to the tool [Example a query for two wheeler insurance rules should mention two wheelers].\n",
    "\n",
    "        Action Input: the input to the action. Enhance the query such that it can  improve the performance of the model question answering model. Let's first understand the problem and devise a plan to solve the problem. Please output the plan starting with the header 'Plan:' and then followed by a numbered list of steps.to accurately complete the task. If the task is a question,the final step should almost always be 'Given the above steps taken,please respond to the users original question'.\n",
    "        Then. self reflect on your answer, find faults and revise.\n",
    "        Observation: the result of the action\n",
    "        ... (this Thought/Action/Action Input/Observation can repeat N times).\n",
    "        Self Reflect: When one-third of the steps are responded, self reflect on the questions and the responses again and modify the results.\n",
    "        Take more information from indices and self analyze the answer.\n",
    "        Always self reflect on your answer, find faults and revise.\n",
    "        Analyze {plex.intermediate_response} if it seems you would like to know more on the responses and if you would like to revisit any specific aspect\n",
    "        or have any further questions, please let revise.\n",
    "        Final Answer: the final answer to the original input question. Show the final answer or response  to the user with '$answer....$' in this manner. so as to rectify that it is the final answer.\n",
    "        Pull up the related cases to the input's situation from the knowledge base. Display the filenames from {metadata} of the related cases and situations!!!\n",
    "        Begin! Remember to be ethical and articulate when giving your final answer.\n",
    "\n",
    "        Question: {input}\n",
    "        {agent_scratchpad}\"\"\"\n",
    "\n",
    "# prompt = CustomPromptTemplate(\n",
    "#     template = template,\n",
    "#     input_variables=[\"input\", \"intermediate_steps\"]\n",
    "# )\n",
    "\n",
    "# vector_retriever = VectorIndexRetriever(index = index, prompt = prompt)\n",
    "# llm = OpenAI(temperature = 0)\n",
    "\n",
    "# custom_retriever = CustomRetriever(vector_retriever)\n",
    "# response_synthesizer = get_response_synthesizer(service_context = service_context, response_mode = \"tree_summarize\")\n",
    "\n",
    "query_engine = index.as_query_engine()"
   ]
  },
  {
   "cell_type": "code",
   "execution_count": 15,
   "metadata": {},
   "outputs": [],
   "source": [
    "base_append = \"\\nList similar cases. If not exact, list similar cases. Give case title for each case.\""
   ]
  },
  {
   "cell_type": "code",
   "execution_count": 16,
   "metadata": {},
   "outputs": [
    {
     "data": {
      "text/plain": [
       "Response(response='\\n1. State of Punjab v. Balwinder Singh, AIR 2003 SC 3179 - Driving a vehicle under the influence of alcohol on a highway.\\n2. State of Maharashtra v. Rajesh Kumar, AIR 2004 SC 486 - Driving a vehicle on a highway without a valid license.\\n3. State of Maharashtra v. Rajesh Kumar, AIR 2004 SC 486 - Driving a vehicle on a highway without a valid insurance.\\n4. State of Maharashtra v. Rajesh Kumar, AIR 2004 SC 486 - Driving a vehicle on a highway without a valid helmet.\\n5. State of Maharashtra v. Rajesh Kumar, AIR 2004 SC 486 - Driving a vehicle on a highway without a valid pollution certificate.', source_nodes=[NodeWithScore(node=TextNode(id_='8f8a44a8-4976-40d5-87e2-d533bd569eba', embedding=None, metadata={}, excluded_embed_metadata_keys=[], excluded_llm_metadata_keys=[], relationships={<NodeRelationship.SOURCE: '1'>: RelatedNodeInfo(node_id='b539eb23-5aae-47bc-80d1-fc3758477b49', node_type=None, metadata={}, hash='7c13ce07c29170731df50a894db3dc09f7b953a35c403966ecfeb4d8172af12a'), <NodeRelationship.PREVIOUS: '2'>: RelatedNodeInfo(node_id='b9148ec6-2a5c-4380-bc6d-c4342ca303af', node_type=None, metadata={}, hash='3bfc93349eb4eb51e5bf5eb4a45f43ee0b744ccbb446a9eac95181aa8803bd6f')}, hash='bbfca3a9d8c1f91bc48d3636cbccc03682bde308ff99ca75222868d12bb99281', text=\"Defence Counsel that the prosecution has failed to prove the allegation of Vehicle No. : DL\\xad2W\\xad5108 18 of 20 dangerous driving against the accused since the details of the traffic condition on the road at the time of violation and other details were missing, is also without any substance. Both the prosecution witnesses have clearly deposed that the accused was carrying 13 passengers inside the vehicle and was driving the same waivingly in a very dangerous fashion. Carrying excess passengers than the permissible limit of a vehicle itself makes it dangerous to drive the vehicle on road and further driving it waivingly in a zig\\xadzag manner further increases the possibility of accidents on the road and in such a case the passengers may fell from the vehicle. Therefore, the allegation of dangerous driving also stands proved against the accused driver. Similarly, the allegation of violation of condition of registration certificate also stands proved as both the prosecution witnesses categorically deposed that the offending vehicle was carrying 13 passengers inside it which is beyond its permissible limit of six passengers.\\nFurther, the allegation that the accused driver was without uniform also stands proved as both the prosecution witnesses have clearly deposed that the accused driver was found without uniform at the time of violation.\\nIn the end, Ld. APP for the State has submitted that since the prosecution has proved all the allegations against the accused, therefore, he must be convicted for the same.\\n\\n9. After all the discussion above, the court finds merits in the submission of Ld. APP for the State. All the allegations levelled against the accused stands proved beyond all reasonable doubt. The route permit allotted in favour of permit holder itself makes it clear that it does not covers the area of place of offence. The allegation of violation of registration certificate, dangerous driving and without uniform also stands proved in view of the testimony of the prosecution witnesses Vehicle No. : DL\\xad2W\\xad5108 19 of 20 as the same has remained intact and consistent throughout the trial. The court finds merit in the argument of Ld. APP for the State that there is no reason to disbelieve the testimony of prosecution witnesses particularly when there is no allegation of ill\\xadmotive or falsehood against any of the prosecution witnesses. The same view has also been upheld by the Hon'ble Supreme Court in the case of Sanspal Singh Vs. State of Delhi, 1999, Cr.L.J 1a. Accordingly, the accused stands convicted for all the charges levelled against him as prosecution has proved the same beyond all reasonable doubts.\\nLet the accused driver be heard separately on quantum of sentence. The fact of this conviction be also brought to the notice of concerned traffic circle through the Naib Court of this Court so that the appropriate action may be taken against the accused for the violation of conditions of permit issued in favour of the permit holder.\", start_char_idx=27293, end_char_idx=30275, text_template='{metadata_str}\\n\\n{content}', metadata_template='{key}: {value}', metadata_seperator='\\n'), score=0.8058508077787522), NodeWithScore(node=TextNode(id_='520f860a-fa3c-4ea7-b402-249b18623b5b', embedding=None, metadata={}, excluded_embed_metadata_keys=[], excluded_llm_metadata_keys=[], relationships={<NodeRelationship.SOURCE: '1'>: RelatedNodeInfo(node_id='575915a5-81c5-41e9-a24a-0d028e5b2bf6', node_type=None, metadata={}, hash='cd0aca1e0984c4e5683d00c86f2fd75813f53badd01ba9772e1ea56a4d485201'), <NodeRelationship.PREVIOUS: '2'>: RelatedNodeInfo(node_id='e438b00d-e7df-4f32-9751-753383380be5', node_type=None, metadata={}, hash='662a5f73787bb3c0b3087c444a63d0c8914b2c94f51815ac0e7e8cee17b05200')}, hash='e9906b0bce3bdf76a77176681cfa92a1127b6188d6d0f9d01e705957275e6472', text='and on his plea of guilt he was convicted. Therefore, this ground of revision that the petitioner was not aware about the consequences of pleading guilty is not acceptable at all. In my view, the Ld. Trial Court has rightly observed that as the accused was driving the vehicle after taking huge amount of alcohol, without having driving license, without insurance, without helmet and without pollution certificate, only the punishment of fine would not have a deterrent or reformative effect on the convict. In my view, sentence for four days of simple imprisonment is not harsh in such circumstances. Also, as the Ld. MM has passed separate sentence for separate offences, I do not find any illegality in the order of the Ld. MM.\\n11.In view of the above discussions, present revision petition is, thus, dismissed being not maintainable and is hereby disposed off accordingly. Copy of this order be sent to the Ld. Trial Court, TCR be sent back. Revision file be consigned to record room.', start_char_idx=11386, end_char_idx=12374, text_template='{metadata_str}\\n\\n{content}', metadata_template='{key}: {value}', metadata_seperator='\\n'), score=0.7995835930030875)], metadata={'8f8a44a8-4976-40d5-87e2-d533bd569eba': {}, '520f860a-fa3c-4ea7-b402-249b18623b5b': {}})"
      ]
     },
     "execution_count": 16,
     "metadata": {},
     "output_type": "execute_result"
    }
   ],
   "source": [
    "query_engine.query('Drunk driving on highway night' + base_append)"
   ]
  },
  {
   "cell_type": "code",
   "execution_count": 17,
   "metadata": {},
   "outputs": [],
   "source": [
    "storage_context.persist(persist_dir = 'persist')"
   ]
  },
  {
   "cell_type": "code",
   "execution_count": null,
   "metadata": {},
   "outputs": [],
   "source": []
  }
 ],
 "metadata": {
  "kernelspec": {
   "display_name": "Python 3",
   "language": "python",
   "name": "python3"
  },
  "language_info": {
   "codemirror_mode": {
    "name": "ipython",
    "version": 3
   },
   "file_extension": ".py",
   "mimetype": "text/x-python",
   "name": "python",
   "nbconvert_exporter": "python",
   "pygments_lexer": "ipython3",
   "version": "3.11.3"
  },
  "orig_nbformat": 4
 },
 "nbformat": 4,
 "nbformat_minor": 2
}
